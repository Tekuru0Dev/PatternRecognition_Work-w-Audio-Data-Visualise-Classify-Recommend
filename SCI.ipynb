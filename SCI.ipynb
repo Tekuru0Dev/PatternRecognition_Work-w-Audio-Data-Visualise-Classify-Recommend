{
  "nbformat": 4,
  "nbformat_minor": 0,
  "metadata": {
    "colab": {
      "provenance": [],
      "authorship_tag": "ABX9TyMRl6tGjakv0s7SNG2Sceuv",
      "include_colab_link": true
    },
    "kernelspec": {
      "name": "python3",
      "display_name": "Python 3"
    },
    "language_info": {
      "name": "python"
    }
  },
  "cells": [
    {
      "cell_type": "markdown",
      "metadata": {
        "id": "view-in-github",
        "colab_type": "text"
      },
      "source": [
        "<a href=\"https://colab.research.google.com/github/Tekuru0Dev/PatternRecognition_Work-w-Audio-Data-Visualise-Classify-Recommend/blob/main/SCI.ipynb\" target=\"_parent\"><img src=\"https://colab.research.google.com/assets/colab-badge.svg\" alt=\"Open In Colab\"/></a>"
      ]
    },
    {
      "cell_type": "code",
      "execution_count": 1,
      "metadata": {
        "id": "oo8Gn7xuzh7L"
      },
      "outputs": [],
      "source": [
        "# Usual Libraries\n",
        "import pandas as pd\n",
        "import numpy as np\n",
        "import seaborn as sns\n",
        "import matplotlib.pyplot as plt\n",
        "%matplotlib inline\n",
        "import sklearn\n",
        "\n",
        "# Librosa (the mother of audio files)\n",
        "import librosa\n",
        "import librosa.display\n",
        "import IPython.display as ipd\n",
        "import warnings\n",
        "warnings.filterwarnings('ignore')"
      ]
    },
    {
      "cell_type": "code",
      "source": [
        "import os\n",
        "general_path = '../input/gtzan-dataset-music-genre-classification/Data'\n",
        "print(list(os.listdir(f'{general_path}/genres_original/')))"
      ],
      "metadata": {
        "id": "srCDY0D40TAZ"
      },
      "execution_count": null,
      "outputs": []
    },
    {
      "cell_type": "code",
      "source": [
        "# Importing 1 file\n",
        "y, sr = librosa.load(f'{general_path}/genres_original/reggae/reggae.00036.wav')\n",
        "\n",
        "print('y:', y, '\\n')\n",
        "print('y shape:', np.shape(y), '\\n')\n",
        "print('Sample Rate (KHz):', sr, '\\n')\n",
        "\n",
        "# Verify length of the audio\n",
        "print('Check Len of Audio:', 661794/22050)"
      ],
      "metadata": {
        "id": "7HwJdu0M0eup"
      },
      "execution_count": null,
      "outputs": []
    },
    {
      "cell_type": "code",
      "source": [
        "# Trim leading and trailing silence from an audio signal (silence before and after the actual audio)\n",
        "audio_file, _ = librosa.effects.trim(y)\n",
        "\n",
        "# the result is an numpy ndarray\n",
        "print('Audio File:', audio_file, '\\n')\n",
        "print('Audio File shape:', np.shape(audio_file))"
      ],
      "metadata": {
        "id": "xfY8BSnv0gz3"
      },
      "execution_count": null,
      "outputs": []
    },
    {
      "cell_type": "code",
      "source": [
        "plt.figure(figsize = (16, 6))\n",
        "librosa.display.waveplot(y = audio_file, sr = sr, color = \"#A300F9\");\n",
        "plt.title(\"Sound Waves in Reggae 36\", fontsize = 23);"
      ],
      "metadata": {
        "id": "5xfp7tue0jOo"
      },
      "execution_count": null,
      "outputs": []
    },
    {
      "cell_type": "code",
      "source": [
        "# Default FFT window size\n",
        "n_fft = 2048 # FFT window size\n",
        "hop_length = 512 # number audio of frames between STFT columns (looks like a good default)\n",
        "\n",
        "# Short-time Fourier transform (STFT)\n",
        "D = np.abs(librosa.stft(audio_file, n_fft = n_fft, hop_length = hop_length))\n",
        "\n",
        "print('Shape of D object:', np.shape(D))"
      ],
      "metadata": {
        "id": "NpML4hyg0j6h"
      },
      "execution_count": null,
      "outputs": []
    },
    {
      "cell_type": "code",
      "source": [
        "plt.figure(figsize = (16, 6))\n",
        "plt.plot(D);"
      ],
      "metadata": {
        "id": "R3v9nzoh0l7w"
      },
      "execution_count": null,
      "outputs": []
    },
    {
      "cell_type": "code",
      "source": [
        "# Convert an amplitude spectrogram to Decibels-scaled spectrogram.\n",
        "DB = librosa.amplitude_to_db(D, ref = np.max)\n",
        "\n",
        "# Creating the Spectogram\n",
        "plt.figure(figsize = (16, 6))\n",
        "librosa.display.specshow(DB, sr = sr, hop_length = hop_length, x_axis = 'time', y_axis = 'log',\n",
        "                        cmap = 'cool')\n",
        "plt.colorbar();"
      ],
      "metadata": {
        "id": "JHpnuRRh0pbx"
      },
      "execution_count": null,
      "outputs": []
    },
    {
      "cell_type": "code",
      "source": [
        "y, sr = librosa.load(f'{general_path}/genres_original/metal/metal.00036.wav')\n",
        "y, _ = librosa.effects.trim(y)\n",
        "\n",
        "\n",
        "S = librosa.feature.melspectrogram(y, sr=sr)\n",
        "S_DB = librosa.amplitude_to_db(S, ref=np.max)\n",
        "plt.figure(figsize = (16, 6))\n",
        "librosa.display.specshow(S_DB, sr=sr, hop_length=hop_length, x_axis = 'time', y_axis = 'log',\n",
        "                        cmap = 'cool');\n",
        "plt.colorbar();\n",
        "plt.title(\"Metal Mel Spectrogram\", fontsize = 23);"
      ],
      "metadata": {
        "id": "-GaBWb7n0sna"
      },
      "execution_count": null,
      "outputs": []
    },
    {
      "cell_type": "code",
      "source": [
        "y, sr = librosa.load(f'{general_path}/genres_original/classical/classical.00036.wav')\n",
        "y, _ = librosa.effects.trim(y)\n",
        "\n",
        "\n",
        "S = librosa.feature.melspectrogram(y, sr=sr)\n",
        "S_DB = librosa.amplitude_to_db(S, ref=np.max)\n",
        "plt.figure(figsize = (16, 6))\n",
        "librosa.display.specshow(S_DB, sr=sr, hop_length=hop_length, x_axis = 'time', y_axis = 'log',\n",
        "                        cmap = 'cool');\n",
        "plt.colorbar();\n",
        "plt.title(\"Classical Mel Spectrogram\", fontsize = 23);"
      ],
      "metadata": {
        "id": "1w1tk8q30vnL"
      },
      "execution_count": null,
      "outputs": []
    },
    {
      "cell_type": "code",
      "source": [
        "# Total zero_crossings in our 1 song\n",
        "zero_crossings = librosa.zero_crossings(audio_file, pad=False)\n",
        "print(sum(zero_crossings))"
      ],
      "metadata": {
        "id": "go4QX2Ql0yts"
      },
      "execution_count": null,
      "outputs": []
    },
    {
      "cell_type": "code",
      "source": [
        "y_harm, y_perc = librosa.effects.hpss(audio_file)\n",
        "\n",
        "plt.figure(figsize = (16, 6))\n",
        "plt.plot(y_harm, color = '#A300F9');\n",
        "plt.plot(y_perc, color = '#FFB100');"
      ],
      "metadata": {
        "id": "MfB2W_AD02EG"
      },
      "execution_count": null,
      "outputs": []
    },
    {
      "cell_type": "code",
      "source": [
        "tempo, _ = librosa.beat.beat_track(y, sr = sr)\n",
        "tempo"
      ],
      "metadata": {
        "id": "v69Yv7Se04IU"
      },
      "execution_count": null,
      "outputs": []
    },
    {
      "cell_type": "code",
      "source": [
        "# Calculate the Spectral Centroids\n",
        "spectral_centroids = librosa.feature.spectral_centroid(audio_file, sr=sr)[0]\n",
        "\n",
        "# Shape is a vector\n",
        "print('Centroids:', spectral_centroids, '\\n')\n",
        "print('Shape of Spectral Centroids:', spectral_centroids.shape, '\\n')\n",
        "\n",
        "# Computing the time variable for visualization\n",
        "frames = range(len(spectral_centroids))\n",
        "\n",
        "# Converts frame counts to time (seconds)\n",
        "t = librosa.frames_to_time(frames)\n",
        "\n",
        "print('frames:', frames, '\\n')\n",
        "print('t:', t)\n",
        "\n",
        "# Function that normalizes the Sound Data\n",
        "def normalize(x, axis=0):\n",
        "    return sklearn.preprocessing.minmax_scale(x, axis=axis)"
      ],
      "metadata": {
        "id": "InyVklBL06-0"
      },
      "execution_count": null,
      "outputs": []
    },
    {
      "cell_type": "code",
      "source": [
        "#Plotting the Spectral Centroid along the waveform\n",
        "plt.figure(figsize = (16, 6))\n",
        "librosa.display.waveplot(audio_file, sr=sr, alpha=0.4, color = '#A300F9');\n",
        "plt.plot(t, normalize(spectral_centroids), color='#FFB100');"
      ],
      "metadata": {
        "id": "OnkUQq0a08wU"
      },
      "execution_count": null,
      "outputs": []
    },
    {
      "cell_type": "code",
      "source": [
        "# Spectral RollOff Vector\n",
        "spectral_rolloff = librosa.feature.spectral_rolloff(audio_file, sr=sr)[0]\n",
        "\n",
        "# The plot\n",
        "plt.figure(figsize = (16, 6))\n",
        "librosa.display.waveplot(audio_file, sr=sr, alpha=0.4, color = '#A300F9');\n",
        "plt.plot(t, normalize(spectral_rolloff), color='#FFB100');"
      ],
      "metadata": {
        "id": "YNAZKucm0-pH"
      },
      "execution_count": null,
      "outputs": []
    },
    {
      "cell_type": "code",
      "source": [
        "mfccs = librosa.feature.mfcc(audio_file, sr=sr)\n",
        "print('mfccs shape:', mfccs.shape)\n",
        "\n",
        "#Displaying  the MFCCs:\n",
        "plt.figure(figsize = (16, 6))\n",
        "librosa.display.specshow(mfccs, sr=sr, x_axis='time', cmap = 'cool');"
      ],
      "metadata": {
        "id": "0439WZVt1AiH"
      },
      "execution_count": null,
      "outputs": []
    },
    {
      "cell_type": "code",
      "source": [
        "# Perform Feature Scaling\n",
        "mfccs = sklearn.preprocessing.scale(mfccs, axis=1)\n",
        "print('Mean:', mfccs.mean(), '\\n')\n",
        "print('Var:', mfccs.var())\n",
        "\n",
        "plt.figure(figsize = (16, 6))\n",
        "librosa.display.specshow(mfccs, sr=sr, x_axis='time', cmap = 'cool');"
      ],
      "metadata": {
        "id": "YnSyTp6e1Cgg"
      },
      "execution_count": null,
      "outputs": []
    },
    {
      "cell_type": "code",
      "source": [
        "# Increase or decrease hop_length to change how granular you want your data to be\n",
        "hop_length = 5000\n",
        "\n",
        "# Chromogram\n",
        "chromagram = librosa.feature.chroma_stft(audio_file, sr=sr, hop_length=hop_length)\n",
        "print('Chromogram shape:', chromagram.shape)\n",
        "\n",
        "plt.figure(figsize=(16, 6))\n",
        "librosa.display.specshow(chromagram, x_axis='time', y_axis='chroma', hop_length=hop_length, cmap='coolwarm');"
      ],
      "metadata": {
        "id": "TOJ6luJ41Euv"
      },
      "execution_count": null,
      "outputs": []
    },
    {
      "cell_type": "code",
      "source": [
        "data = pd.read_csv(f'{general_path}/features_30_sec.csv')\n",
        "data.head()"
      ],
      "metadata": {
        "id": "ES1YxO9G1Gww"
      },
      "execution_count": null,
      "outputs": []
    },
    {
      "cell_type": "code",
      "source": [
        "# Computing the Correlation Matrix\n",
        "spike_cols = [col for col in data.columns if 'mean' in col]\n",
        "corr = data[spike_cols].corr()\n",
        "\n",
        "# Generate a mask for the upper triangle\n",
        "mask = np.triu(np.ones_like(corr, dtype=np.bool))\n",
        "\n",
        "# Set up the matplotlib figure\n",
        "f, ax = plt.subplots(figsize=(16, 11));\n",
        "\n",
        "# Generate a custom diverging colormap\n",
        "cmap = sns.diverging_palette(0, 25, as_cmap=True, s = 90, l = 45, n = 5)\n",
        "\n",
        "# Draw the heatmap with the mask and correct aspect ratio\n",
        "sns.heatmap(corr, mask=mask, cmap=cmap, vmax=.3, center=0,\n",
        "            square=True, linewidths=.5, cbar_kws={\"shrink\": .5})\n",
        "\n",
        "plt.title('Correlation Heatmap (for the MEAN variables)', fontsize = 25)\n",
        "plt.xticks(fontsize = 10)\n",
        "plt.yticks(fontsize = 10);\n",
        "plt.savefig(\"Corr Heatmap.jpg\")"
      ],
      "metadata": {
        "id": "hojahrmp1KBh"
      },
      "execution_count": null,
      "outputs": []
    },
    {
      "cell_type": "code",
      "source": [
        "from sklearn import preprocessing\n",
        "\n",
        "data = data.iloc[0:, 1:]\n",
        "y = data['label']\n",
        "X = data.loc[:, data.columns != 'label']\n",
        "\n",
        "#### NORMALIZE X ####\n",
        "cols = X.columns\n",
        "min_max_scaler = preprocessing.MinMaxScaler()\n",
        "np_scaled = min_max_scaler.fit_transform(X)\n",
        "X = pd.DataFrame(np_scaled, columns = cols)\n",
        "\n",
        "\n",
        "#### PCA 2 COMPONENTS ####\n",
        "from sklearn.decomposition import PCA\n",
        "\n",
        "pca = PCA(n_components=2)\n",
        "principalComponents = pca.fit_transform(X)\n",
        "principalDf = pd.DataFrame(data = principalComponents, columns = ['principal component 1', 'principal component 2'])\n",
        "\n",
        "# concatenate with target label\n",
        "finalDf = pd.concat([principalDf, y], axis = 1)\n",
        "\n",
        "pca.explained_variance_ratio_\n",
        "\n",
        "# 44.93 variance explained"
      ],
      "metadata": {
        "id": "7Wyv_SEU1KzE"
      },
      "execution_count": null,
      "outputs": []
    },
    {
      "cell_type": "code",
      "source": [
        "plt.figure(figsize = (16, 9))\n",
        "sns.scatterplot(x = \"principal component 1\", y = \"principal component 2\", data = finalDf, hue = \"label\", alpha = 0.7,\n",
        "               s = 100);\n",
        "\n",
        "plt.title('PCA on Genres', fontsize = 25)\n",
        "plt.xticks(fontsize = 14)\n",
        "plt.yticks(fontsize = 10);\n",
        "plt.xlabel(\"Principal Component 1\", fontsize = 15)\n",
        "plt.ylabel(\"Principal Component 2\", fontsize = 15)\n",
        "plt.savefig(\"PCA Scattert.jpg\")"
      ],
      "metadata": {
        "id": "XbgNsNc91O-R"
      },
      "execution_count": null,
      "outputs": []
    },
    {
      "cell_type": "code",
      "source": [
        "from sklearn.naive_bayes import GaussianNB\n",
        "from sklearn.linear_model import SGDClassifier, LogisticRegression\n",
        "from sklearn.neighbors import KNeighborsClassifier\n",
        "from sklearn.tree import DecisionTreeClassifier\n",
        "from sklearn.ensemble import RandomForestClassifier\n",
        "from sklearn.svm import SVC\n",
        "from sklearn.neural_network import MLPClassifier\n",
        "from xgboost import XGBClassifier, XGBRFClassifier\n",
        "from xgboost import plot_tree, plot_importance\n",
        "\n",
        "from sklearn.metrics import confusion_matrix, accuracy_score, roc_auc_score, roc_curve\n",
        "from sklearn import preprocessing\n",
        "from sklearn.model_selection import train_test_split\n",
        "from sklearn.feature_selection import RFE"
      ],
      "metadata": {
        "id": "Gv6PX5VQ1Ph7"
      },
      "execution_count": null,
      "outputs": []
    },
    {
      "cell_type": "code",
      "source": [
        "data = pd.read_csv(f'{general_path}/features_3_sec.csv')\n",
        "data = data.iloc[0:, 1:]\n",
        "data.head()"
      ],
      "metadata": {
        "id": "Nx2SezjS1SQD"
      },
      "execution_count": null,
      "outputs": []
    },
    {
      "cell_type": "code",
      "source": [
        "y = data['label'] # genre variable.\n",
        "X = data.loc[:, data.columns != 'label'] #select all columns but not the labels\n",
        "\n",
        "#### NORMALIZE X ####\n",
        "\n",
        "# Normalize so everything is on the same scale.\n",
        "\n",
        "cols = X.columns\n",
        "min_max_scaler = preprocessing.MinMaxScaler()\n",
        "np_scaled = min_max_scaler.fit_transform(X)\n",
        "\n",
        "# new data frame with the new scaled data.\n",
        "X = pd.DataFrame(np_scaled, columns = cols)"
      ],
      "metadata": {
        "id": "Js5nsv4N1UuZ"
      },
      "execution_count": null,
      "outputs": []
    },
    {
      "cell_type": "code",
      "source": [
        "X_train, X_test, y_train, y_test = train_test_split(X, y, test_size=0.3, random_state=42)"
      ],
      "metadata": {
        "id": "IDBw5ka51W1b"
      },
      "execution_count": null,
      "outputs": []
    },
    {
      "cell_type": "code",
      "source": [
        "def model_assess(model, title = \"Default\"):\n",
        "    model.fit(X_train, y_train)\n",
        "    preds = model.predict(X_test)\n",
        "    #print(confusion_matrix(y_test, preds))\n",
        "    print('Accuracy', title, ':', round(accuracy_score(y_test, preds), 5), '\\n')"
      ],
      "metadata": {
        "id": "_CH5VHrA1ag2"
      },
      "execution_count": null,
      "outputs": []
    },
    {
      "cell_type": "code",
      "source": [
        "# Naive Bayes\n",
        "nb = GaussianNB()\n",
        "model_assess(nb, \"Naive Bayes\")\n",
        "\n",
        "# Stochastic Gradient Descent\n",
        "sgd = SGDClassifier(max_iter=5000, random_state=0)\n",
        "model_assess(sgd, \"Stochastic Gradient Descent\")\n",
        "\n",
        "# KNN\n",
        "knn = KNeighborsClassifier(n_neighbors=19)\n",
        "model_assess(knn, \"KNN\")\n",
        "\n",
        "# Decission trees\n",
        "tree = DecisionTreeClassifier()\n",
        "model_assess(tree, \"Decission trees\")\n",
        "\n",
        "# Random Forest\n",
        "rforest = RandomForestClassifier(n_estimators=1000, max_depth=10, random_state=0)\n",
        "model_assess(rforest, \"Random Forest\")\n",
        "\n",
        "# Support Vector Machine\n",
        "svm = SVC(decision_function_shape=\"ovo\")\n",
        "model_assess(svm, \"Support Vector Machine\")\n",
        "\n",
        "# Logistic Regression\n",
        "lg = LogisticRegression(random_state=0, solver='lbfgs', multi_class='multinomial')\n",
        "model_assess(lg, \"Logistic Regression\")\n",
        "\n",
        "# Neural Nets\n",
        "nn = MLPClassifier(solver='lbfgs', alpha=1e-5, hidden_layer_sizes=(5000, 10), random_state=1)\n",
        "model_assess(nn, \"Neural Nets\")\n",
        "\n",
        "# Cross Gradient Booster\n",
        "xgb = XGBClassifier(n_estimators=1000, learning_rate=0.05)\n",
        "model_assess(xgb, \"Cross Gradient Booster\")\n",
        "\n",
        "# Cross Gradient Booster (Random Forest)\n",
        "xgbrf = XGBRFClassifier(objective= 'multi:softmax')\n",
        "model_assess(xgbrf, \"Cross Gradient Booster (Random Forest)\")"
      ],
      "metadata": {
        "id": "UCTmL3JZ1eiM"
      },
      "execution_count": null,
      "outputs": []
    },
    {
      "cell_type": "code",
      "source": [
        "# Final model\n",
        "xgb = XGBClassifier(n_estimators=1000, learning_rate=0.05)\n",
        "xgb.fit(X_train, y_train)\n",
        "\n",
        "\n",
        "preds = xgb.predict(X_test)\n",
        "\n",
        "print('Accuracy', ':', round(accuracy_score(y_test, preds), 5), '\\n')\n",
        "\n",
        "# Confusion Matrix\n",
        "confusion_matr = confusion_matrix(y_test, preds) #normalize = 'true'\n",
        "plt.figure(figsize = (16, 9))\n",
        "sns.heatmap(confusion_matr, cmap=\"Blues\", annot=True,\n",
        "            xticklabels = [\"blues\", \"classical\", \"country\", \"disco\", \"hiphop\", \"jazz\", \"metal\", \"pop\", \"reggae\", \"rock\"],\n",
        "           yticklabels=[\"blues\", \"classical\", \"country\", \"disco\", \"hiphop\", \"jazz\", \"metal\", \"pop\", \"reggae\", \"rock\"]);\n",
        "plt.savefig(\"conf matrix\")"
      ],
      "metadata": {
        "id": "uL-YjgpC1ght"
      },
      "execution_count": null,
      "outputs": []
    },
    {
      "cell_type": "code",
      "source": [
        "import eli5\n",
        "from eli5.sklearn import PermutationImportance\n",
        "\n",
        "perm = PermutationImportance(estimator=xgb, random_state=1)\n",
        "perm.fit(X_test, y_test)\n",
        "\n",
        "eli5.show_weights(estimator=perm, feature_names = X_test.columns.tolist())"
      ],
      "metadata": {
        "id": "LCMqRqrh1il9"
      },
      "execution_count": null,
      "outputs": []
    },
    {
      "cell_type": "code",
      "source": [
        "# Libraries\n",
        "import IPython.display as ipd\n",
        "from sklearn.metrics.pairwise import cosine_similarity\n",
        "from sklearn import preprocessing\n",
        "\n",
        "# Read data\n",
        "data = pd.read_csv(f'{general_path}/features_30_sec.csv', index_col='filename')\n",
        "\n",
        "# Extract labels\n",
        "labels = data[['label']]\n",
        "\n",
        "# Drop labels from original dataframe\n",
        "data = data.drop(columns=['length','label'])\n",
        "data.head()\n",
        "\n",
        "# Scale the data\n",
        "data_scaled=preprocessing.scale(data)\n",
        "print('Scaled data type:', type(data_scaled))"
      ],
      "metadata": {
        "id": "6IEANAWq1k4-"
      },
      "execution_count": null,
      "outputs": []
    },
    {
      "cell_type": "code",
      "source": [
        "# Cosine similarity\n",
        "similarity = cosine_similarity(data_scaled)\n",
        "print(\"Similarity shape:\", similarity.shape)\n",
        "\n",
        "# Convert into a dataframe and then set the row index and column names as labels\n",
        "sim_df_labels = pd.DataFrame(similarity)\n",
        "sim_df_names = sim_df_labels.set_index(labels.index)\n",
        "sim_df_names.columns = labels.index\n",
        "\n",
        "sim_df_names.head()"
      ],
      "metadata": {
        "id": "O0gW1WIK1nHf"
      },
      "execution_count": null,
      "outputs": []
    },
    {
      "cell_type": "code",
      "source": [
        "def find_similar_songs(name):\n",
        "    # Find songs most similar to another song\n",
        "    series = sim_df_names[name].sort_values(ascending = False)\n",
        "\n",
        "    # Remove cosine similarity == 1 (songs will always have the best match with themselves)\n",
        "    series = series.drop(name)\n",
        "\n",
        "    # Display the 5 top matches\n",
        "    print(\"\\n*******\\nSimilar songs to \", name)\n",
        "    print(series.head(5))"
      ],
      "metadata": {
        "id": "HptLtz_61qa5"
      },
      "execution_count": null,
      "outputs": []
    },
    {
      "cell_type": "code",
      "source": [
        "# pop.00019 - Britney Spears \"Hit me baby one more time\"\n",
        "find_similar_songs('pop.00019.wav')\n",
        "\n",
        "ipd.Audio(f'{general_path}/genres_original/pop/pop.00019.wav')"
      ],
      "metadata": {
        "id": "Zwu6cIV01sKL"
      },
      "execution_count": null,
      "outputs": []
    },
    {
      "cell_type": "code",
      "source": [
        "ipd.Audio(f'{general_path}/genres_original/pop/pop.00023.wav')"
      ],
      "metadata": {
        "id": "XaGu1lQd1suh"
      },
      "execution_count": null,
      "outputs": []
    },
    {
      "cell_type": "code",
      "source": [
        "ipd.Audio(f'{general_path}/genres_original/pop/pop.00034.wav')"
      ],
      "metadata": {
        "id": "1-Az1wcr1xgH"
      },
      "execution_count": null,
      "outputs": []
    },
    {
      "cell_type": "code",
      "source": [
        "ipd.Audio(f'{general_path}/genres_original/pop/pop.00078.wav')\n"
      ],
      "metadata": {
        "id": "yyiBBoBx1zCf"
      },
      "execution_count": null,
      "outputs": []
    },
    {
      "cell_type": "code",
      "source": [
        "ipd.Audio(f'{general_path}/genres_original/pop/pop.00088.wav')"
      ],
      "metadata": {
        "id": "JjJQmpap1ziD"
      },
      "execution_count": null,
      "outputs": []
    },
    {
      "cell_type": "code",
      "source": [
        "ipd.Audio(f'{general_path}/genres_original/pop/pop.00091.wav')"
      ],
      "metadata": {
        "id": "40HscXhA11I7"
      },
      "execution_count": null,
      "outputs": []
    },
    {
      "cell_type": "code",
      "source": [
        "# metal.00002 - Iron Maiden \"Flight of Icarus\"\n",
        "find_similar_songs('metal.00002.wav')\n",
        "\n",
        "ipd.Audio(f'{general_path}/genres_original/metal/metal.00002.wav')"
      ],
      "metadata": {
        "id": "1WUlyDRv12lq"
      },
      "execution_count": null,
      "outputs": []
    },
    {
      "cell_type": "code",
      "source": [
        "ipd.Audio(f'{general_path}/genres_original/metal/metal.00028.wav')"
      ],
      "metadata": {
        "id": "WBPiMA_k15sr"
      },
      "execution_count": null,
      "outputs": []
    },
    {
      "cell_type": "code",
      "source": [
        "ipd.Audio(f'{general_path}/genres_original/metal/metal.00059.wav')"
      ],
      "metadata": {
        "id": "4QS7o1A417br"
      },
      "execution_count": null,
      "outputs": []
    },
    {
      "cell_type": "code",
      "source": [
        "ipd.Audio(f'{general_path}/genres_original/rock/rock.00018.wav')"
      ],
      "metadata": {
        "id": "9uqy3Edx19Ed"
      },
      "execution_count": null,
      "outputs": []
    },
    {
      "cell_type": "code",
      "source": [
        "ipd.Audio(f'{general_path}/genres_original/rock/rock.00017.wav')\n"
      ],
      "metadata": {
        "id": "JrEuWLDG1-jU"
      },
      "execution_count": null,
      "outputs": []
    },
    {
      "cell_type": "code",
      "source": [
        "ipd.Audio(f'{general_path}/genres_original/rock/rock.00016.wav')"
      ],
      "metadata": {
        "id": "p1WdRqa82AFJ"
      },
      "execution_count": null,
      "outputs": []
    }
  ]
}